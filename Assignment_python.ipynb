{
 "cells": [
  {
   "cell_type": "code",
   "execution_count": 2,
   "metadata": {
    "collapsed": false
   },
   "outputs": [
    {
     "name": "stdout",
     "output_type": "stream",
     "text": [
      "hello world\n"
     ]
    }
   ],
   "source": [
    "#1. write a program to findout \n",
    "s=\"hello world\"\n",
    "print s"
   ]
  },
  {
   "cell_type": "code",
   "execution_count": 7,
   "metadata": {
    "collapsed": false
   },
   "outputs": [
    {
     "name": "stdout",
     "output_type": "stream",
     "text": [
      "Enter a string: pty\n",
      "Not a substring\n"
     ]
    }
   ],
   "source": [
    "# 2. write a program to chek given substring is there in actual string or not? (search should be case insensitive) \n",
    "str = \"goole nexus\"\n",
    "a = raw_input(\"Enter a string: \")\n",
    "if a in str:\n",
    "    print \"Substring\"\n",
    "else:\n",
    "    print \"Not a substring\""
   ]
  },
  {
   "cell_type": "code",
   "execution_count": 16,
   "metadata": {
    "collapsed": false
   },
   "outputs": [
    {
     "name": "stdout",
     "output_type": "stream",
     "text": [
      "False\n",
      "True\n"
     ]
    }
   ],
   "source": [
    "#5. take a string from the user and check contains only digits or not?\n",
    "a=\"1239kqj\"\n",
    "b=\"1267543\"\n",
    "print a.isdigit()\n",
    "print b.isdigit()"
   ]
  },
  {
   "cell_type": "code",
   "execution_count": 15,
   "metadata": {
    "collapsed": false
   },
   "outputs": [
    {
     "name": "stdout",
     "output_type": "stream",
     "text": [
      "True\n"
     ]
    }
   ],
   "source": [
    "#6. take a string from the user and check contains only  alphabets or not?\n",
    "y=\"helloworld\"\n",
    "print y.isalpha()"
   ]
  },
  {
   "cell_type": "code",
   "execution_count": 19,
   "metadata": {
    "collapsed": false
   },
   "outputs": [
    {
     "name": "stdout",
     "output_type": "stream",
     "text": [
      "True\n",
      "False\n"
     ]
    }
   ],
   "source": [
    "#8. take a string from the user and check contains only  capiatl letters or not?\n",
    "w=\"ASWEUY\"\n",
    "e=\"iururu'\"\n",
    "print w.isupper()\n",
    "print e.isupper()"
   ]
  },
  {
   "cell_type": "code",
   "execution_count": 21,
   "metadata": {
    "collapsed": false
   },
   "outputs": [
    {
     "name": "stdout",
     "output_type": "stream",
     "text": [
      "False\n",
      "True\n"
     ]
    }
   ],
   "source": [
    "#9. take a string from the user and check contains only  small letters or not?\n",
    "q=\"aWETRYpocv\"\n",
    "e=\"asiansky\"\n",
    "print q.islower()\n",
    "print e.islower()\n"
   ]
  },
  {
   "cell_type": "code",
   "execution_count": 12,
   "metadata": {
    "collapsed": false
   },
   "outputs": [
    {
     "name": "stdout",
     "output_type": "stream",
     "text": [
      "Enter a string: 23456ftr\n",
      "Contains Digits\n"
     ]
    }
   ],
   "source": [
    "#11.take a string from the user and check contains atleast one digit or not?\n",
    "a = raw_input(\"Enter a string: \")\n",
    "for i in a:\n",
    "    if i.isdigit():\n",
    "        print \"Contains Digits\"\n",
    "        break"
   ]
  },
  {
   "cell_type": "code",
   "execution_count": 4,
   "metadata": {
    "collapsed": false
   },
   "outputs": [
    {
     "name": "stdout",
     "output_type": "stream",
     "text": [
      "Enter a value: 230\n",
      "Even Number\n"
     ]
    }
   ],
   "source": [
    " 3#. take a number from the user and check whether even or odd\n",
    "a=input(\"Enter a value: \")\n",
    "if (a % 2) == 0:\n",
    "    print \"Even Number\"\n",
    "else:\n",
    "    print \"Odd Number\""
   ]
  },
  {
   "cell_type": "code",
   "execution_count": 10,
   "metadata": {
    "collapsed": false
   },
   "outputs": [
    {
     "name": "stdout",
     "output_type": "stream",
     "text": [
      "Enter number: 11\n",
      "(11, 'is a prime number')\n"
     ]
    }
   ],
   "source": [
    "4# take a number from the user and check whether it is prime?\n",
    "n=input(\"Enter number: \")\n",
    "if n > 1:   \n",
    "   for i in range(2,n):\n",
    "       if (n % i) == 0:\n",
    "           print(n,\"is not a prime number\")\n",
    "           break\n",
    "   else:\n",
    "       print(n,\"is a prime number\")\n",
    "else:\n",
    "   print(n,\"is not a prime number\")"
   ]
  },
  {
   "cell_type": "code",
   "execution_count": 27,
   "metadata": {
    "collapsed": false
   },
   "outputs": [
    {
     "name": "stdout",
     "output_type": "stream",
     "text": [
      "False\n",
      "True\n"
     ]
    }
   ],
   "source": [
    "6.#take a string from the user and check contains atleast one alphabet or not?\n",
    "string_2 = \"(555) 555 - 5555 ext. 5555\"\n",
    "print any(c.isalpha() for c in string_1)\n",
    "print any(c.isalpha() for c in string_2)\n"
   ]
  },
  {
   "cell_type": "code",
   "execution_count": 10,
   "metadata": {
    "collapsed": false
   },
   "outputs": [
    {
     "name": "stdout",
     "output_type": "stream",
     "text": [
      "Menu: \n",
      "1.Windows \n",
      "2.Linux \n",
      "3.Mac\n",
      "4.Quit\n",
      "Enter your choice: 2\n",
      "You have selected Linux\n"
     ]
    }
   ],
   "source": [
    "10.# Show the below menu to the user until and until user select quit and display corresponding os message\n",
    "'''\n",
    "Menu:\n",
    "1.Windows\n",
    "2.Linux\n",
    "3.Mac\n",
    "4.Quit\n",
    "'''\n",
    "print \"Menu: \\n1.Windows \\n2.Linux \\n3.Mac\\n4.Quit\"\n",
    "a = input(\"Enter your choice: \")\n",
    "while (a > 1):\n",
    "    if a == 1:\n",
    "        print \"You have selected Windows\"\n",
    "        break\n",
    "    elif a == 2:\n",
    "        print \"You have selected Linux\"\n",
    "        break\n",
    "    elif a == 3:\n",
    "        print \"You have selected Mac\"\n",
    "        break\n",
    "    else:\n",
    "        print\"Invalid Choice\"\n",
    "        break"
   ]
  },
  {
   "cell_type": "code",
   "execution_count": 13,
   "metadata": {
    "collapsed": false
   },
   "outputs": [
    {
     "name": "stdout",
     "output_type": "stream",
     "text": [
      "Enter a stringadtefr34\n",
      "Contains alphabets\n"
     ]
    }
   ],
   "source": [
    "#12: atleast one alpha\n",
    "a = raw_input(\"Enter a string\")\n",
    "for i in a:\n",
    "    if i.isalpha():\n",
    "        print \"Contains alphabets\"\n",
    "        break"
   ]
  },
  {
   "cell_type": "code",
   "execution_count": 14,
   "metadata": {
    "collapsed": false
   },
   "outputs": [
    {
     "name": "stdout",
     "output_type": "stream",
     "text": [
      "Enter a stringWQEryt\n",
      "Contains Upper Characters\n"
     ]
    }
   ],
   "source": [
    "#14: atleast one Upper\n",
    "a = raw_input(\"Enter a string\")\n",
    "for i in a:\n",
    "    if i.isupper():\n",
    "        print \"Contains Upper Characters\"\n",
    "        break"
   ]
  },
  {
   "cell_type": "code",
   "execution_count": 4,
   "metadata": {
    "collapsed": false
   },
   "outputs": [
    {
     "name": "stdout",
     "output_type": "stream",
     "text": [
      "Enter a stringwqwe\n",
      "Contains Lower Characters\n"
     ]
    }
   ],
   "source": [
    "#15: atleast on Loweer\n",
    "b = raw_input(\"Enter a string\")\n",
    "for i in b:\n",
    "    if i.islower():\n",
    "        print \"Contains Lower Characters\"\n",
    "        break"
   ]
  },
  {
   "cell_type": "code",
   "execution_count": 2,
   "metadata": {
    "collapsed": false
   },
   "outputs": [
    {
     "name": "stdout",
     "output_type": "stream",
     "text": [
      "Enter total number of people: 45\n",
      "Enter total number buses: 9\n",
      "Enter number of seats per bus: 5\n",
      "Buses are sufficient\n"
     ]
    }
   ],
   "source": [
    "###16. Take the input from the user for(Total number of people, toatl number of busses, Number of seats for bus). Based on the input,Deside whether there is sufficient busses or not and give solution for how many extra busses required.\n",
    "tp = input(\"Enter total number of people: \")\n",
    "tb = input(\"Enter total number buses: \")\n",
    "ns = input(\"Enter number of seats per bus: \")\n",
    "if (tp <= tb * ns):\n",
    "    print \"Buses are sufficient\"\n",
    "else:\n",
    "    print \"Buses are not sufficient\"\n",
    "    cap = tb * ns #capacity\n",
    "    rp = tp - cap    # Remaining people\n",
    "    bn = rp / ns # buses needed\n",
    "    print \"Addition Buses required are: \", bn    "
   ]
  },
  {
   "cell_type": "code",
   "execution_count": 5,
   "metadata": {
    "collapsed": false
   },
   "outputs": [
    {
     "name": "stdout",
     "output_type": "stream",
     "text": [
      "1\n",
      "3\n",
      "5\n",
      "7\n",
      "9\n",
      "11\n",
      "13\n",
      "15\n",
      "17\n",
      "19\n"
     ]
    }
   ],
   "source": [
    "#17: First 100 odd ( Tested with 10, need to increase value in while loop as per the requirement)\n",
    "i = 1\n",
    "count = 1\n",
    "while (count <= 10):\n",
    "    if i%2 !=0:\n",
    "        print i\n",
    "        count = count + 1\n",
    "    i = i+1"
   ]
  },
  {
   "cell_type": "code",
   "execution_count": 1,
   "metadata": {
    "collapsed": false
   },
   "outputs": [
    {
     "name": "stdout",
     "output_type": "stream",
     "text": [
      "Enter number: 89\n",
      "factorial is  16507955160908461081216919262453619309839666236496541854913520707833171034378509739399912570787600662729080382999756800000000000000000000\n"
     ]
    }
   ],
   "source": [
    "18.#Determine the factors of a number entered by the user\n",
    "num=input(\"Enter number: \")\n",
    "factorial=1\n",
    "if num < 0:\n",
    "   print(\" factorial does not exist for negative numbers\")\n",
    "elif num == 0:\n",
    "   print(\"The factorial of 0 is 1\")\n",
    "else:\n",
    "   for i in range(1,num+1):\n",
    "       factorial = factorial*i\n",
    "   print \"factorial is \",factorial\n"
   ]
  },
  {
   "cell_type": "code",
   "execution_count": 3,
   "metadata": {
    "collapsed": false
   },
   "outputs": [
    {
     "name": "stdout",
     "output_type": "stream",
     "text": [
      "Guess a number: 243\n",
      "Hi\n"
     ]
    }
   ],
   "source": [
    "#19.Play a number guessing game (User enters a guess, you print YES or Higher or Lower)\n",
    "a = input (\"Guess a number: \")\n",
    "if a <= 50:\n",
    "    print \"Low\"\n",
    "elif a > 50 & a <= 100:\n",
    "    print \"Hi\"\n",
    "else:\n",
    "    print \"Wrong choice\""
   ]
  },
  {
   "cell_type": "code",
   "execution_count": 2,
   "metadata": {
    "collapsed": false
   },
   "outputs": [
    {
     "name": "stdout",
     "output_type": "stream",
     "text": [
      "Enter a value8\n",
      "Enter b value7\n",
      "a is not divisible by b\n"
     ]
    }
   ],
   "source": [
    "20.#Take two numbers from the user a,b check whether a is divisible by b or not?\n",
    "a=input(\"Enter a value\")\n",
    "b=input(\"Enter b value\")\n",
    "if (a % b) == 0:\n",
    "    print \"a is divisible by b\"\n",
    "else:\n",
    "    print \"a is not divisible by b\"\n"
   ]
  },
  {
   "cell_type": "code",
   "execution_count": 3,
   "metadata": {
    "collapsed": false
   },
   "outputs": [
    {
     "name": "stdout",
     "output_type": "stream",
     "text": [
      "Enter age: 9.5\n",
      "you are a child\n"
     ]
    }
   ],
   "source": [
    "21.#Given an age, figure out whether someone's a baby, toddler, child, teenager, adult or old codger.\n",
    "a=input(\"Enter age: \")    \n",
    "if a<=3:\n",
    "    print \"you are a baby\"\n",
    "elif a<=7:\n",
    "    print \"you are a toddler\"\n",
    "elif a<=12:\n",
    "    print \"you are a child\"\n",
    "elif a<=16:\n",
    "    print \"you are a teenager\"\n",
    "elif a>=18:\n",
    "    print \"you are an adult or older age\""
   ]
  },
  {
   "cell_type": "code",
   "execution_count": 4,
   "metadata": {
    "collapsed": false
   },
   "outputs": [
    {
     "name": "stdout",
     "output_type": "stream",
     "text": [
      "265334\n",
      "232169\n"
     ]
    }
   ],
   "source": [
    " 22.#Find the sum of all the multiples of 3 or 5 below 1000\n",
    "nums = [3, 5]\n",
    "max = 999\n",
    "\n",
    "\n",
    "result = 0\n",
    "for num in nums:\n",
    "    for i in range(1,max):\n",
    "        if num*i < max:\n",
    "            result += num*i\n",
    "print result\n",
    "\n",
    "result = 0\n",
    "for i in range(0,max):\n",
    "    if i%3 == 0 or i%5 == 0:\n",
    "        result += i\n",
    "\n",
    "print result"
   ]
  },
  {
   "cell_type": "code",
   "execution_count": 1,
   "metadata": {
    "collapsed": false
   },
   "outputs": [
    {
     "name": "stdout",
     "output_type": "stream",
     "text": [
      "Enter a value:8\n",
      "Enter b value: 3\n",
      "a is big value\n"
     ]
    }
   ],
   "source": [
    "#23.Write a program to findout big of two numbers\n",
    "a=input(\"Enter a value:\")\n",
    "b=input(\"Enter b value: \")\n",
    "if a>b:\n",
    "    print \"a is big value\"\n",
    "else:\n",
    "    print \"b is big value\"\n"
   ]
  },
  {
   "cell_type": "code",
   "execution_count": 5,
   "metadata": {
    "collapsed": false
   },
   "outputs": [
    {
     "name": "stdout",
     "output_type": "stream",
     "text": [
      "Enter List values: 1,3,0\n",
      "3\n"
     ]
    }
   ],
   "source": [
    "#24.Write a program to findout biggest number in the given numbers\n",
    "a = raw_input(\"Enter List values: \")\n",
    "print max(a)"
   ]
  },
  {
   "cell_type": "code",
   "execution_count": null,
   "metadata": {
    "collapsed": true
   },
   "outputs": [],
   "source": [
    "#25.findout third occurance of given substring"
   ]
  },
  {
   "cell_type": "code",
   "execution_count": null,
   "metadata": {
    "collapsed": true
   },
   "outputs": [],
   "source": [
    "#26.findout nth occurance of given substring"
   ]
  },
  {
   "cell_type": "code",
   "execution_count": 6,
   "metadata": {
    "collapsed": false
   },
   "outputs": [
    {
     "name": "stdout",
     "output_type": "stream",
     "text": [
      "Enter digits: 1,5,7,8,9\n",
      "Max of digits:  9\n",
      "Min of digits:  1\n",
      "sum of digits:  30\n",
      "Average of digits:  6\n"
     ]
    }
   ],
   "source": [
    "#.27 & 31 : Single digit from user and find max min sum average\n",
    "a = input(\"Enter digits: \")\n",
    "print max(a)\n",
    "print min(a)\n",
    "print sum(a)\n",
    "print (sum(a)/len(a))"
   ]
  },
  {
   "cell_type": "code",
   "execution_count": null,
   "metadata": {
    "collapsed": false
   },
   "outputs": [
    {
     "name": "stdout",
     "output_type": "stream",
     "text": [
      "Enter a value: 2134566\n",
      "2134566\n"
     ]
    }
   ],
   "source": [
    "#28: WAP> 10 -> 000010\n",
    "     #  100 ->  000100\n",
    "     # 1000 ->  001000\n",
    "#2345678  ->  2345678\n",
    "for i in range(1, 5):\n",
    "    a = raw_input(\"Enter a value: \")\n",
    "    print a.rjust(6, \"0\")\n",
    "    i = i + 1"
   ]
  },
  {
   "cell_type": "code",
   "execution_count": 1,
   "metadata": {
    "collapsed": false
   },
   "outputs": [
    {
     "name": "stdout",
     "output_type": "stream",
     "text": [
      "emp1,emp2,emp3,emp4\n"
     ]
    }
   ],
   "source": [
    " #29.names =\"emp1,emp2,emp3,emp4\" iterate through the employee names.\n",
    "names=\"emp1,emp2,emp3,emp4\"\n",
    "str=names.split()\n",
    "for word in str:\n",
    "    print (word)"
   ]
  },
  {
   "cell_type": "code",
   "execution_count": null,
   "metadata": {
    "collapsed": true
   },
   "outputs": [],
   "source": [
    "#30.Take actuual string, soucrce string, destination string. replce first nth occurances of soucestring with destination string of actual string"
   ]
  },
  {
   "cell_type": "code",
   "execution_count": 8,
   "metadata": {
    "collapsed": false
   },
   "outputs": [
    {
     "name": "stdout",
     "output_type": "stream",
     "text": [
      "[10, 20, 30, 70]\n",
      "[10, 20, 30, 70, 40, 50, 60, 80, 90, 20]\n"
     ]
    }
   ],
   "source": [
    "#32.l=[10,20,30,[40,50,60],70,[80,90,20]]. Convert this list as sigle dimentiona list\n",
    "l=[10,20,30,[40,50,60],70,[80,90,20]]\n",
    "l2 = l.pop(3)\n",
    "l3 = l.pop()\n",
    "print l\n",
    "l4 = l+l2+l3\n",
    "print l4"
   ]
  },
  {
   "cell_type": "code",
   "execution_count": 1,
   "metadata": {
    "collapsed": false
   },
   "outputs": [
    {
     "name": "stdout",
     "output_type": "stream",
     "text": [
      "('e', 1)\n",
      "('o', 2)\n",
      "('g', 2)\n",
      "('l', 1)\n"
     ]
    }
   ],
   "source": [
    "# 33. input: \"google\" print count of each character\n",
    "input=\"google\"\n",
    "l=list(input)\n",
    "s=set(l)\n",
    "for i in s:\n",
    "    print (i,input.count(i))\n"
   ]
  },
  {
   "cell_type": "code",
   "execution_count": null,
   "metadata": {
    "collapsed": true
   },
   "outputs": [],
   "source": [
    "#34: Convert n dimentional list to single dimentional list."
   ]
  },
  {
   "cell_type": "code",
   "execution_count": 7,
   "metadata": {
    "collapsed": false
   },
   "outputs": [
    {
     "name": "stdout",
     "output_type": "stream",
     "text": [
      "[40, 50, 60]\n",
      "[80, 90, 20]\n"
     ]
    }
   ],
   "source": [
    "35.#l=[10,20,30,[40,50,60],70,[80,90,20]]. Convert this list as sigle dimentiona list\n",
    "\n",
    "l=[10,20,30,[40,50,60],70,[80,90,20]]\n",
    "\n",
    "l1=l[3]\n",
    "print l1\n",
    "l2=l[5]\n",
    "print l2\n",
    "l3=l[2]"
   ]
  },
  {
   "cell_type": "code",
   "execution_count": 3,
   "metadata": {
    "collapsed": false
   },
   "outputs": [
    {
     "name": "stdout",
     "output_type": "stream",
     "text": [
      "[1, 2, 3, 7]\n",
      "[1, 2, 3, 7, 4, 5, 6, 8, 9, 10]\n"
     ]
    }
   ],
   "source": [
    "#36. l=[1,2,3,[4,5,6],7,[8,9,10]] for single dimentional list\n",
    "l=[1,2,3,[4,5,6],7,[8,9,10]]\n",
    "l2 = l.pop(3)\n",
    "l3 = l.pop()\n",
    "print l\n",
    "l4 = l+l2+l3\n",
    "print l4"
   ]
  },
  {
   "cell_type": "code",
   "execution_count": null,
   "metadata": {
    "collapsed": true
   },
   "outputs": [],
   "source": [
    "#37.l=['a','A','b','B','d','D','c','C'] WAP to find out case insensitive count and case insensitive search for an element."
   ]
  },
  {
   "cell_type": "code",
   "execution_count": null,
   "metadata": {
    "collapsed": true
   },
   "outputs": [],
   "source": [
    "#38.l=['a','A','b','B','d','D','c','C']  sort the list properly"
   ]
  },
  {
   "cell_type": "code",
   "execution_count": null,
   "metadata": {
    "collapsed": true
   },
   "outputs": [],
   "source": [
    "#39.find the start position of the largest block of repeated characters in a given string"
   ]
  },
  {
   "cell_type": "code",
   "execution_count": 9,
   "metadata": {
    "collapsed": false
   },
   "outputs": [
    {
     "name": "stdout",
     "output_type": "stream",
     "text": [
      "Union of l1 and l2:  [3, 5, 6]\n",
      "Intersection of l1 and l2:  [1, 3, 5, 6, 7, 21, 33]\n"
     ]
    }
   ],
   "source": [
    "#40 WAP to find union and intersection of lists.\n",
    "l1 = [1,3,5,6,7,1]\n",
    "l2 = [3,6,33,21,5]\n",
    "print \"Union of l1 and l2: \", list(set(l1) & set(l2))\n",
    "print \"Intersection of l1 and l2: \", list(set(l1) | set(l2))"
   ]
  },
  {
   "cell_type": "code",
   "execution_count": null,
   "metadata": {
    "collapsed": true
   },
   "outputs": [],
   "source": [
    "#41. input: fun(5) output: [1,2,3,4,3,2,1]"
   ]
  },
  {
   "cell_type": "code",
   "execution_count": null,
   "metadata": {
    "collapsed": true
   },
   "outputs": [],
   "source": [
    "#42.input fun('abc') output: [[],][a],[b],[c],[a,b],[b,c],[c,a],[a,b,c]]"
   ]
  },
  {
   "cell_type": "code",
   "execution_count": 4,
   "metadata": {
    "collapsed": false
   },
   "outputs": [
    {
     "name": "stdout",
     "output_type": "stream",
     "text": [
      "the original values of list a:  [1, 2, 3, 4]\n"
     ]
    }
   ],
   "source": [
    "43.#Remove duplicates from the list: a=[1,2,3,2,3,4,1,,3,4]\n",
    "a=[1,2,3,2,3,4,1,3,4]\n",
    "print \"the original values of list a: \", list(set(a))"
   ]
  },
  {
   "cell_type": "code",
   "execution_count": 6,
   "metadata": {
    "collapsed": false
   },
   "outputs": [
    {
     "name": "stdout",
     "output_type": "stream",
     "text": [
      "[(1, 5), (2, 6), (3, 7), (4, 8)]\n",
      "6\n",
      "8\n",
      "10\n",
      "12\n"
     ]
    }
   ],
   "source": [
    "# 45. l1=[1,2,3,4] l2=[5,6,7,8] sum of two lists\n",
    "l1=[1,2,3,4] \n",
    "l2=[5,6,7,8]\n",
    "print zip(l1,l2)\n",
    "for i in zip(l1,l2):\n",
    "    print i[0]+i[1]"
   ]
  },
  {
   "cell_type": "code",
   "execution_count": 8,
   "metadata": {
    "collapsed": false
   },
   "outputs": [
    {
     "name": "stdout",
     "output_type": "stream",
     "text": [
      "6\n"
     ]
    }
   ],
   "source": [
    "#44. l=['1','2','3'] get the sum of the list\n",
    "l1=['1','2','3'] \n",
    "l2 = [int(item) for item in l1]\n",
    "sum = l2[0]+l2[1]+l2[2]\n",
    "print sum"
   ]
  },
  {
   "cell_type": "code",
   "execution_count": 9,
   "metadata": {
    "collapsed": false
   },
   "outputs": [
    {
     "name": "stdout",
     "output_type": "stream",
     "text": [
      "[9, 8, 7, 5, 4, 3, 2, 1]\n",
      "Third Max value in the list is:  7\n"
     ]
    }
   ],
   "source": [
    "#46: Find third max value of element in a list with sorting and without sorting a list.\n",
    "l = [3,5,7,2,4,8,9,1]\n",
    "l2 = sorted(l, reverse=True)\n",
    "print l2\n",
    "print \"Third Max value in the list is: \", l2[2]"
   ]
  },
  {
   "cell_type": "code",
   "execution_count": null,
   "metadata": {
    "collapsed": true
   },
   "outputs": [],
   "source": [
    "#47.Input = [\"1/1\",\"1/2\",\"1/3\",\"1/4\",\"2/5\",\"2/6\",\"2/8\"] Output = [['1/1-4'], ['2/5-6'], ['2/8']]"
   ]
  },
  {
   "cell_type": "code",
   "execution_count": null,
   "metadata": {
    "collapsed": true
   },
   "outputs": [],
   "source": [
    "#48.l=[1,2,3,5,7,8,9,10,11,12,13,20,22,23,24,25,26,27,20,21,22,4] output = [[1, 2, 3], [5], [7, 8, 9, 10, 11, 12, 13], [20], [22, 23, 24, 25, 26, 27], [20, 21, 22], [4]]"
   ]
  },
  {
   "cell_type": "code",
   "execution_count": 9,
   "metadata": {
    "collapsed": false
   },
   "outputs": [
    {
     "name": "stdout",
     "output_type": "stream",
     "text": [
      "[1, 2, 3, 4, 5]\n",
      "['Odd number', 'Even Number', 'Odd number', 'Even Number', 'Odd number']\n"
     ]
    }
   ],
   "source": [
    "#49: Even odd\n",
    "a = [1,2,3,4,5]\n",
    "print a\n",
    "b = []\n",
    "for i in a:\n",
    "    if (i % 2)== 0:\n",
    "        b.insert(i,\"Even Number\")\n",
    "    else:\n",
    "        b.insert(i,\"Odd number\")\n",
    "print b"
   ]
  },
  {
   "cell_type": "code",
   "execution_count": null,
   "metadata": {
    "collapsed": true
   },
   "outputs": [],
   "source": []
  }
 ],
 "metadata": {
  "kernelspec": {
   "display_name": "Python 2",
   "language": "python",
   "name": "python2"
  },
  "language_info": {
   "codemirror_mode": {
    "name": "ipython",
    "version": 2
   },
   "file_extension": ".py",
   "mimetype": "text/x-python",
   "name": "python",
   "nbconvert_exporter": "python",
   "pygments_lexer": "ipython2",
   "version": "2.7.12"
  }
 },
 "nbformat": 4,
 "nbformat_minor": 2
}
